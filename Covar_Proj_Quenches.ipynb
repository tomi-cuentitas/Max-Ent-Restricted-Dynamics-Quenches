{
 "cells": [
  {
   "cell_type": "code",
   "execution_count": 1,
   "id": "f14f423f",
   "metadata": {},
   "outputs": [],
   "source": [
    "import qutip, pickle, sys\n",
    "import matplotlib.pyplot as plt \n",
    "import numpy as np\n",
    "import scipy.optimize as opt \n",
    "import scipy.linalg as linalg\n",
    "import time as time\n",
    "import math, cmath\n",
    "\n",
    "from datetime import datetime\n",
    "from qutip.qobj import Qobj\n",
    "from collections.abc import Iterable\n",
    "from typing import Callable, List, Optional, Tuple\n",
    "from datetime import datetime"
   ]
  },
  {
   "cell_type": "code",
   "execution_count": 2,
   "id": "8b3f58d1",
   "metadata": {},
   "outputs": [],
   "source": [
    "import sys \n",
    "path = 'C:/Users/Tomas/PhD_Physics/3rd_Year/Max-Ent_Library'\n",
    "sys.path.insert(1, path) \n",
    "\n",
    "import a_quantum_stateology as TpM\n",
    "import b_spin_ops as su2\n",
    "import b_quantum_geometries as gij"
   ]
  },
  {
   "cell_type": "code",
   "execution_count": 3,
   "id": "65783a23",
   "metadata": {},
   "outputs": [],
   "source": [
    "params={}\n",
    "params['size'],params['chain_type'] = 6,'XX'\n",
    "params['h']=0;params['Jx']=.5*2*np.pi"
   ]
  },
  {
   "cell_type": "code",
   "execution_count": 58,
   "id": "cd9038ea",
   "metadata": {},
   "outputs": [],
   "source": [
    "spin_ops = su2.one_body_spin_ops(args=params)\n",
    "H0 = su2.Heisenberg_1D_Hamiltonian(args=params,\n",
    "                                   spin_ops=spin_ops,\n",
    "                                   closed_bcs=True, visualization=False)"
   ]
  },
  {
   "cell_type": "code",
   "execution_count": 59,
   "id": "e974e275",
   "metadata": {},
   "outputs": [],
   "source": [
    "params['g'] = .1; params['w'] = params['Omega']=np.pi; temp=1\n",
    "Vt = sum(op for op in spin_ops['sz']) \n",
    "def Vt_tdcoeff(t, args):\n",
    "    return args['g']*np.cos(-args['Omega']*t)\n",
    "\n",
    "Hint = params['Omega'] * spin_ops['sz'][2]\n",
    "\n",
    "H=[H0+Hint, [Vt, Vt_tdcoeff]]"
   ]
  },
  {
   "cell_type": "code",
   "execution_count": 60,
   "id": "141a13f5",
   "metadata": {},
   "outputs": [],
   "source": [
    "def safe_expm_and_normalize(K) -> Qobj:\n",
    "    n_eig = sum(K.dims[0])\n",
    "    if n_eig <= 16:\n",
    "        e0 = max(np.real(K.eigenenergies()))\n",
    "    else:\n",
    "        e0 = max(np.real(K.eigenenergies(sparse=\"True\", sort=\"high\", eigvals=n_eig)))\n",
    "    sigma = (K - e0).expm()\n",
    "    return qutip.Qobj(sigma / sigma.tr())"
   ]
  },
  {
   "cell_type": "code",
   "execution_count": 61,
   "id": "ba71788d",
   "metadata": {},
   "outputs": [],
   "source": [
    "def fetch_kubo_scalar_product(sigma: Qobj, threshold=0.99999):\n",
    "    evals_evecs = sorted(zip(*sigma.eigenstates()), key=lambda x: -x[0])\n",
    "    w = 0\n",
    "    for i, val_vec in enumerate(evals_evecs):\n",
    "        w += val_vec[0]\n",
    "        if w > threshold:\n",
    "            evals_evecs = evals_evecs[: i + 1]\n",
    "            break\n",
    "\n",
    "    stored = {}\n",
    "        \n",
    "    def ksp(op1, op2):\n",
    "        if False:\n",
    "            key = (id(op2), id(op1))\n",
    "            if key in stored:\n",
    "                return stored[key]\n",
    "            key = (id(op1), id(op2))\n",
    "            if key in stored:\n",
    "                return stored[key]\n",
    "\n",
    "        result = sum(\n",
    "        (\n",
    "            np.conj((v2.dag() * op1 * v1).tr())\n",
    "            * ((v2.dag() * op2 * v1).tr())\n",
    "            * (p1 if p1 == p2 else (p1 - p2) / np.log(p1 / p2))\n",
    "        )\n",
    "        for p1, v1 in evals_evecs\n",
    "        for p2, v2 in evals_evecs\n",
    "        if (p1 > 0 and p2 > 0)\n",
    "        )\n",
    "        \n",
    "        #    stored[key] = result\n",
    "        return result\n",
    "\n",
    "    return ksp\n",
    "\n",
    "def fetch_kubo_int_scalar_product(sigma: Qobj):\n",
    "    evals, evecs = sigma.eigenstates()\n",
    "\n",
    "    def return_func(op1, op2):\n",
    "        return 0.01 * sum(\n",
    "            (\n",
    "                np.conj((v2.dag() * op1 * v1).tr())\n",
    "                * ((v2.dag() * op2 * v1).tr())\n",
    "                * ((p1) ** (1.0 - tau))\n",
    "                * ((p1) ** (tau))\n",
    "            )\n",
    "            for p1, v1 in zip(evals, evecs)\n",
    "            for p2, v2 in zip(evals, evecs)\n",
    "            for tau in np.linspace(0.0, 1.0, 100)\n",
    "            if (p1 > 0.0 and p2 > 0.0)\n",
    "        )\n",
    "\n",
    "    return return_func\n",
    "\n",
    "    return lambda op1, op2: 0.01 * sum(\n",
    "        (\n",
    "            np.conj((v2.dag() * op1 * v1).tr())\n",
    "            * ((v2.dag() * op2 * v1).tr())\n",
    "            * p1 ** (1 - tau)\n",
    "            * p1 ** (tau)\n",
    "        )\n",
    "        for p1, v1 in zip(evals, evecs)\n",
    "        for p2, v2 in zip(evals, evecs)\n",
    "        for tau in np.linspace(0, 1, 100)\n",
    "    )\n",
    "\n",
    "\n",
    "def fetch_covar_scalar_product(sigma: Qobj):\n",
    "    return lambda op1, op2: 0.5 * (sigma * (op1.dag() * op2 +\n",
    "                                            op2 * op1.dag())).tr()"
   ]
  },
  {
   "cell_type": "code",
   "execution_count": 62,
   "id": "c8ae8e5b",
   "metadata": {},
   "outputs": [],
   "source": [
    "def gram_matrix(basis: list, sp: Callable):\n",
    "    size = len(basis)\n",
    "    result = np.zeros([size, size], dtype=float)\n",
    "\n",
    "    for i, op1 in enumerate(basis):\n",
    "        for j, op2 in enumerate(basis):\n",
    "            if j < i:\n",
    "                continue\n",
    "            entry = np.real(sp(op1, op2))\n",
    "            if i == j:\n",
    "                result[i, i] = entry\n",
    "            else:\n",
    "                result[i, j] = result[j, i] = entry\n",
    "\n",
    "    return result.round(14)\n",
    "\n",
    "\n",
    "def orthogonalize_basis(basis: list, sp: Callable, idop: Qobj = None):\n",
    "    if idop:\n",
    "        idnorm_sq = sp(idop, idop)\n",
    "        id_comp = [sp(idop, op) / idnorm_sq for op in basis]\n",
    "        basis = ([idop * idnorm_sq**-0.5] +\n",
    "                 [op - la for la, op in zip(id_comp, basis)])\n",
    "\n",
    "    gs = gram_matrix(basis, sp)\n",
    "    evals, evecs = np.linalg.eigh(gs)\n",
    "    evecs = [vec / np.linalg.norm(vec) for vec in evecs.transpose()]\n",
    "    return [\n",
    "        p ** (-0.5) * sum(c * op for c, op in zip(w, basis))\n",
    "        for p, w in zip(evals, evecs)\n",
    "        if p > 0.00001\n",
    "    ]\n",
    "\n",
    "\n",
    "def project_op(op: Qobj, orthogonal_basis: list, sp: Callable):\n",
    "    return np.array([sp(op2, op) for op2 in orthogonal_basis])"
   ]
  },
  {
   "cell_type": "markdown",
   "id": "30ec0931",
   "metadata": {},
   "source": [
    "Para cada trayectoria, calcular la evolución de X y N\n",
    "Entropías relativas entre los diferentes pares ((rho_KMB, rho_corr), (rho, rho_KMB) y (rho, rho_corr) )\n",
    "Distancia KMB entre los diferentes pares ((K_KMB, K_corr), (K, K_KMB) y (K, K_corr) )"
   ]
  },
  {
   "cell_type": "code",
   "execution_count": 122,
   "id": "d71c0e47",
   "metadata": {},
   "outputs": [],
   "source": [
    "def projections(H,K0,basis0,timespan,args):\n",
    "    print(\"**** Starting Simulation\", datetime.now())\n",
    "    results={}; results['covar_Kt']=[]; results['exact_Kt']=[];results['covar_sigmat']=[];results['exact_rhot']=[]\n",
    "    res_exact = qutip.mesolve(H=H,\n",
    "                              tlist=timespan,\n",
    "                              rho0=K0,\n",
    "                              args=args)\n",
    "    rhot = [safe_expm_and_normalize(Kt) for Kt in res_exact.states]\n",
    "    covar_sp=[fetch_covar_scalar_product(rho_at_timet) for rho_at_timet in rhot]\n",
    "    timespan_prime=list(timespan)\n",
    "    for t in timespan:\n",
    "        ti = timespan_prime.index(t)\n",
    "        if ti%5==0:\n",
    "            print(\"-----Processing step\",ti,\"at time\",datetime.now)\n",
    "        orth_basis=orthogonalize_basis(basis=basis0,sp=covar_sp[ti],idop=basis0[0])\n",
    "        phis_covar = project_op(res_exact.states[ti], orth_basis, covar_sp[ti])\n",
    "        Kp_covar=sum(phi*op for phi,op in zip(phis_covar, orth_basis))\n",
    "        sigma_covar=safe_expm_and_normalize(Kp_covar)\n",
    "        results['covar_Kt'].append(Kp_covar)\n",
    "        results['covar_sigmat'].append(sigma_covar)\n",
    "    results['exact_Kt']=res_exact.states; results['exact_rhot']=rhot\n",
    "    return results"
   ]
  },
  {
   "cell_type": "code",
   "execution_count": 123,
   "id": "8b8fa592",
   "metadata": {
    "scrolled": false
   },
   "outputs": [
    {
     "name": "stdout",
     "output_type": "stream",
     "text": [
      "**** Starting Simulation 2024-02-06 18:06:17.585403\n",
      "-----Processing step 0 at time <built-in method now of type object at 0x00007FFB611EB650>\n",
      "-----Processing step 5 at time <built-in method now of type object at 0x00007FFB611EB650>\n",
      "-----Processing step 10 at time <built-in method now of type object at 0x00007FFB611EB650>\n",
      "-----Processing step 15 at time <built-in method now of type object at 0x00007FFB611EB650>\n",
      "-----Processing step 20 at time <built-in method now of type object at 0x00007FFB611EB650>\n",
      "-----Processing step 25 at time <built-in method now of type object at 0x00007FFB611EB650>\n",
      "-----Processing step 30 at time <built-in method now of type object at 0x00007FFB611EB650>\n",
      "-----Processing step 35 at time <built-in method now of type object at 0x00007FFB611EB650>\n",
      "-----Processing step 40 at time <built-in method now of type object at 0x00007FFB611EB650>\n",
      "-----Processing step 45 at time <built-in method now of type object at 0x00007FFB611EB650>\n",
      "-----Processing step 50 at time <built-in method now of type object at 0x00007FFB611EB650>\n",
      "-----Processing step 55 at time <built-in method now of type object at 0x00007FFB611EB650>\n",
      "-----Processing step 60 at time <built-in method now of type object at 0x00007FFB611EB650>\n",
      "-----Processing step 65 at time <built-in method now of type object at 0x00007FFB611EB650>\n",
      "-----Processing step 70 at time <built-in method now of type object at 0x00007FFB611EB650>\n",
      "-----Processing step 75 at time <built-in method now of type object at 0x00007FFB611EB650>\n",
      "-----Processing step 80 at time <built-in method now of type object at 0x00007FFB611EB650>\n",
      "-----Processing step 85 at time <built-in method now of type object at 0x00007FFB611EB650>\n",
      "-----Processing step 90 at time <built-in method now of type object at 0x00007FFB611EB650>\n",
      "-----Processing step 95 at time <built-in method now of type object at 0x00007FFB611EB650>\n"
     ]
    }
   ],
   "source": [
    "phi0 = [.5,.5]; beta=1/temp\n",
    "HBB0_j3 = [spin_ops['idop'], spin_ops['sz'][2]]\n",
    "timespans=np.linspace(0,5,100)\n",
    "K0 = sum(phi*op for phi,op in zip(phi0,HBB0_j3))\n",
    "K0_maxev = max(K0.eigenenergies())\n",
    "K0_eff = K0 - K0_maxev*spin_ops['idop']\n",
    "sigma0 = (-beta*K0_eff).expm()\n",
    "sigma0 = sigma0/sigma0.tr()\n",
    "\n",
    "covar_and_exact_Proj_ell0s=projections(H=H,K0=K0_eff,basis0=HBB0_j3,timespan=timespans,args=params)"
   ]
  },
  {
   "cell_type": "code",
   "execution_count": 124,
   "id": "5d123f6a",
   "metadata": {
    "scrolled": true
   },
   "outputs": [],
   "source": [
    "exact_Kt=covar_and_exact_Proj_ell0s['exact_Kt']\n",
    "exact_rhot=covar_and_exact_Proj_ell0s['exact_rhot']\n",
    "covar_Kt=covar_and_exact_Proj_ell0s['covar_Kt']\n",
    "covar_sigmat=covar_and_exact_Proj_ell0s['covar_sigmat']\n",
    "\n",
    "matrix_norm_states=[np.linalg.norm(rhoti-sigmati) for rhoti, sigmati in zip(exact_rhot,covar_sigmat)]\n",
    "matrix_norm_ks=[np.linalg.norm(ex_kti-cov_kti) for ex_kti, cov_kti in zip(exact_Kt,covar_Kt)]"
   ]
  },
  {
   "cell_type": "code",
   "execution_count": 125,
   "id": "7b3d0834",
   "metadata": {},
   "outputs": [
    {
     "data": {
      "text/plain": [
       "<matplotlib.collections.PathCollection at 0x24eb67b8ac0>"
      ]
     },
     "execution_count": 125,
     "metadata": {},
     "output_type": "execute_result"
    },
    {
     "data": {
      "image/png": "[encoded data removed]",
      "text/plain": [
       "<Figure size 432x288 with 1 Axes>"
      ]
     },
     "metadata": {
      "needs_background": "light"
     },
     "output_type": "display_data"
    }
   ],
   "source": [
    "expectation_values={}\n",
    "observables=[spin_ops['sz'][2]]\n",
    "for qop in observables:\n",
    "    expectation_values['exact']=[(rhoti*qop).tr() for rhoti in exact_rhot]\n",
    "    expectation_values['covar']=[(sigmati*qop).tr() for sigmati in covar_sigmat]\n",
    "    \n",
    "plt.scatter(timespans, expectation_values['exact'])\n",
    "plt.scatter(timespans, expectation_values['covar'])"
   ]
  },
  {
   "cell_type": "code",
   "execution_count": 126,
   "id": "6e7f202d",
   "metadata": {},
   "outputs": [],
   "source": [
    "def commutator(op1,op2):\n",
    "    return op1*op2-op2*op1"
   ]
  },
  {
   "cell_type": "code",
   "execution_count": 127,
   "id": "06a014d2",
   "metadata": {},
   "outputs": [],
   "source": [
    "hierarchical_basis=HBB0_j3\n",
    "T=2*np.pi/params['Omega']\n",
    "td_iterated_commutator=[commutator(H0+Hint+Vt_tdcoeff(ti, params),HBB0_j3[-1]) for ti in np.linspace(0,T,30)]\n",
    "avg_itt_comm=1/T * sum(c_ell_ti for c_ell_ti in td_iterated_commutator)\n",
    "hierarchical_basis.append(qutip.Qobj(avg_itt_comm))"
   ]
  },
  {
   "cell_type": "code",
   "execution_count": 128,
   "id": "c0e2c245",
   "metadata": {
    "scrolled": true
   },
   "outputs": [
    {
     "name": "stdout",
     "output_type": "stream",
     "text": [
      "**** Starting Simulation 2024-02-06 18:06:37.407881\n",
      "-----Processing step 0 at time <built-in method now of type object at 0x00007FFB611EB650>\n",
      "-----Processing step 5 at time <built-in method now of type object at 0x00007FFB611EB650>\n",
      "-----Processing step 10 at time <built-in method now of type object at 0x00007FFB611EB650>\n",
      "-----Processing step 15 at time <built-in method now of type object at 0x00007FFB611EB650>\n",
      "-----Processing step 20 at time <built-in method now of type object at 0x00007FFB611EB650>\n",
      "-----Processing step 25 at time <built-in method now of type object at 0x00007FFB611EB650>\n",
      "-----Processing step 30 at time <built-in method now of type object at 0x00007FFB611EB650>\n",
      "-----Processing step 35 at time <built-in method now of type object at 0x00007FFB611EB650>\n",
      "-----Processing step 40 at time <built-in method now of type object at 0x00007FFB611EB650>\n",
      "-----Processing step 45 at time <built-in method now of type object at 0x00007FFB611EB650>\n",
      "-----Processing step 50 at time <built-in method now of type object at 0x00007FFB611EB650>\n",
      "-----Processing step 55 at time <built-in method now of type object at 0x00007FFB611EB650>\n",
      "-----Processing step 60 at time <built-in method now of type object at 0x00007FFB611EB650>\n",
      "-----Processing step 65 at time <built-in method now of type object at 0x00007FFB611EB650>\n",
      "-----Processing step 70 at time <built-in method now of type object at 0x00007FFB611EB650>\n",
      "-----Processing step 75 at time <built-in method now of type object at 0x00007FFB611EB650>\n",
      "-----Processing step 80 at time <built-in method now of type object at 0x00007FFB611EB650>\n",
      "-----Processing step 85 at time <built-in method now of type object at 0x00007FFB611EB650>\n",
      "-----Processing step 90 at time <built-in method now of type object at 0x00007FFB611EB650>\n",
      "-----Processing step 95 at time <built-in method now of type object at 0x00007FFB611EB650>\n"
     ]
    }
   ],
   "source": [
    "phi0 = [.5,.5,0]; beta=1/temp\n",
    "\n",
    "covar_and_exact_Proj_ell1s=projections(H=H,K0=K0_eff,basis0=hierarchical_basis,timespan=timespans,args=params)\n",
    "exact_Kt_ell1=covar_and_exact_Proj_ell1s['exact_Kt']\n",
    "exact_rhot_ell1=covar_and_exact_Proj_ell1s['exact_rhot']\n",
    "covar_Kt_ell1=covar_and_exact_Proj_ell1s['covar_Kt']\n",
    "covar_sigmat_ell1=covar_and_exact_Proj_ell1s['covar_sigmat']"
   ]
  },
  {
   "cell_type": "code",
   "execution_count": 129,
   "id": "b8bbee10",
   "metadata": {},
   "outputs": [
    {
     "data": {
      "image/png": "[encoded data removed]",
      "text/plain": [
       "<Figure size 720x432 with 1 Axes>"
      ]
     },
     "metadata": {
      "needs_background": "light"
     },
     "output_type": "display_data"
    }
   ],
   "source": [
    "expectation_values_ELL1={}\n",
    "observables=[spin_ops['sz'][2]]\n",
    "for qop in observables:\n",
    "    expectation_values_ELL1['exact']=[(rhoti*qop).tr() for rhoti in exact_rhot_ell1]\n",
    "    expectation_values_ELL1['covar']=[(sigmati*qop).tr() for sigmati in covar_sigmat_ell1]\n",
    "\n",
    "    \n",
    "fig0, ax0 = plt.subplots(figsize=(10,6))\n",
    "\n",
    "plt.scatter(timespans, expectation_values_ELL1['exact'], label='Exact')\n",
    "plt.scatter(timespans, expectation_values['covar'], label='covar ell=0')\n",
    "plt.scatter(timespans, expectation_values_ELL1['covar'], label='covar ell=1')\n",
    "ax0.legend(loc = 0)\n",
    "plt.xlabel(\"Time[s]\")\n",
    "plt.show()"
   ]
  },
  {
   "cell_type": "code",
   "execution_count": null,
   "id": "be0c24f8",
   "metadata": {},
   "outputs": [],
   "source": []
  },
  {
   "cell_type": "code",
   "execution_count": null,
   "id": "4818b069",
   "metadata": {},
   "outputs": [],
   "source": []
  },
  {
   "cell_type": "code",
   "execution_count": 31,
   "id": "fff851e6",
   "metadata": {},
   "outputs": [],
   "source": [
    "# importing required module\n",
    "import csv\n",
    " \n",
    "# opening the file\n",
    "with open(\"student_results.csv\", \"w\", newline=\"\") as f:\n",
    "    # creating the writer\n",
    "    writer = csv.writer(f)\n",
    "    # using writerow to write individual record one by one\n",
    "    writer.writerow([\"Name\", \"English\", \"Math\", \"Science\", \"Social Science\"])\n",
    "    writer.writerow([\"Varun\", \"91\", \"90\", \"74\", \"80\"])\n",
    "    writer.writerow([\"Rahul\", \"89\", \"94\", \"81\", \"86\"])\n",
    "    writer.writerow([\"Kabir\", \"80\", \"93\", \"88\", \"82\"])\n",
    "    writer.writerow([\"Suman\", \"80\", \"75\", \"98\", \"85\"])"
   ]
  },
  {
   "cell_type": "code",
   "execution_count": null,
   "id": "0756d60d",
   "metadata": {},
   "outputs": [],
   "source": []
  },
  {
   "cell_type": "code",
   "execution_count": null,
   "id": "1e0d10ac",
   "metadata": {},
   "outputs": [],
   "source": []
  },
  {
   "cell_type": "code",
   "execution_count": null,
   "id": "3c6376fb",
   "metadata": {},
   "outputs": [],
   "source": []
  }
 ],
 "metadata": {
  "kernelspec": {
   "display_name": "Python 3 (ipykernel)",
   "language": "python",
   "name": "python3"
  },
  "language_info": {
   "codemirror_mode": {
    "name": "ipython",
    "version": 3
   },
   "file_extension": ".py",
   "mimetype": "text/x-python",
   "name": "python",
   "nbconvert_exporter": "python",
   "pygments_lexer": "ipython3",
   "version": "3.9.12"
  }
 },
 "nbformat": 4,
 "nbformat_minor": 5
}
