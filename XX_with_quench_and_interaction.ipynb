{
 "cells": [
  {
   "cell_type": "code",
   "execution_count": 1,
   "id": "fb9f4452",
   "metadata": {},
   "outputs": [],
   "source": [
    "import numpy as np\n",
    "import matplotlib.pyplot as plt\n",
    "import scipy.linalg as linalg\n",
    "import qutip"
   ]
  },
  {
   "cell_type": "code",
   "execution_count": 2,
   "id": "68688204",
   "metadata": {},
   "outputs": [],
   "source": [
    "import sys \n",
    "path = 'C:/Users/Tomas/PhD_Physics/3rd_Year/Max-Ent_Library'\n",
    "sys.path.insert(1, path) \n",
    "\n",
    "import b_spin_ops as su2"
   ]
  },
  {
   "cell_type": "code",
   "execution_count": 3,
   "id": "cbb8fa2e",
   "metadata": {},
   "outputs": [],
   "source": [
    "params={}\n",
    "params['size'],params['chain_type'] = 6,'XX'\n",
    "params['h']=0;params['Jx']=.5*2*np.pi\n",
    "params['g'] = .1; params['w'] = params['Omega']=np.pi\n",
    "beta=1"
   ]
  },
  {
   "cell_type": "code",
   "execution_count": 4,
   "id": "e872898e",
   "metadata": {},
   "outputs": [],
   "source": [
    "spin_ops = su2.one_body_spin_ops(args=params)\n",
    "H0 = su2.Heisenberg_1D_Hamiltonian(args=params,\n",
    "                                   spin_ops=spin_ops,\n",
    "                                   closed_bcs=True, visualization=False)\n",
    "\n",
    "Hint = sum(op for op in spin_ops['sz']) \n",
    "def Hint_tdcoeff(t, args):\n",
    "    return args['g']*np.cos(-args['Omega']*t)\n",
    "\n",
    "Vt = params['Omega'] * spin_ops['sz'][2]\n",
    "\n",
    "H=[H0+Vt, [Hint, Hint_tdcoeff]]"
   ]
  },
  {
   "cell_type": "code",
   "execution_count": 15,
   "id": "e3d83f9f",
   "metadata": {},
   "outputs": [],
   "source": [
    "ket0 = qutip.tensor(qutip.basis(2,1),qutip.tensor([qutip.basis(2,0) for k in range(params['size']-1)]))\n",
    "rho0=ket0*ket0.dag()\n",
    "\n",
    "phi0 = [.5,.5]\n",
    "basis_j3 = [spin_ops['idop'], spin_ops['sz'][3]]\n",
    "K0 = sum(phi*op for phi,op in zip(phi0,basis))\n",
    "K0_maxev = max(K0.eigenenergies())\n",
    "K0_eff = K0 - K0_maxev*spin_ops['idop']\n",
    "sigma0 = (-beta*K0_eff).expm()\n",
    "sigma0 = sigma0/sigma0.tr()"
   ]
  },
  {
   "cell_type": "code",
   "execution_count": 6,
   "id": "ff94c704",
   "metadata": {},
   "outputs": [],
   "source": [
    "ket0 = qutip.tensor(qutip.basis(2,1),qutip.tensor([qutip.basis(2,0) for k in range(params['size']-1)]))\n",
    "rho0=ket0*ket0.dag()\n",
    "\n",
    "tlist= np.linspace(0,1,100)\n",
    "exact_ev = qutip.mesolve(H=H, \n",
    "                         rho0=K0_eff, \n",
    "                         tlist=tlist,\n",
    "                         c_ops= None,\n",
    "                         args=params)"
   ]
  },
  {
   "cell_type": "markdown",
   "id": "af05cbc8",
   "metadata": {},
   "source": [
    "### Covar-Projections from the exact solution"
   ]
  },
  {
   "cell_type": "code",
   "execution_count": 18,
   "id": "16b0286c",
   "metadata": {},
   "outputs": [],
   "source": [
    "def fetch_covar_scalar_product(sigma: qutip.Qobj):\n",
    "    return lambda op1, op2: 0.5 * (sigma * (op1.dag() * op2 +\n",
    "                                            op2 * op1.dag())).tr()\n",
    "\n",
    "def orthogonalize_basis(basis: list, sp: callable, idop: qutip.Qobj = None):\n",
    "    if idop:\n",
    "        idnorm_sq = sp(idop, idop)\n",
    "        id_comp = [sp(idop, op) / idnorm_sq for op in basis]\n",
    "        basis = ([idop * idnorm_sq**-0.5] +\n",
    "                 [op - la for la, op in zip(id_comp, basis)])\n",
    "\n",
    "    gs = gram_matrix(basis, sp)\n",
    "    evals, evecs = np.linalg.eigh(gs)\n",
    "    evecs = [vec / np.linalg.norm(vec) for vec in evecs.transpose()]\n",
    "    return [\n",
    "        p ** (-0.5) * sum(c * op for c, op in zip(w, basis))\n",
    "        for p, w in zip(evals, evecs)\n",
    "        if p > 0.00001\n",
    "    ]\n",
    "\n",
    "def project_op(op: qutip.Qobj, orthogonal_basis: list, sp: callable):\n",
    "    return np.array([sp(op2, op) for op2 in orthogonal_basis])\n",
    "\n",
    "def fetch_induced_distance(sp):\n",
    "    def distance(op1, op2):\n",
    "        dop = op1 - op2\n",
    "        return np.sqrt(sp(dop, dop))\n",
    "\n",
    "    return distance"
   ]
  },
  {
   "cell_type": "code",
   "execution_count": 20,
   "id": "0a842319",
   "metadata": {},
   "outputs": [
    {
     "ename": "TypeError",
     "evalue": "callable() takes exactly one argument (2 given)",
     "output_type": "error",
     "traceback": [
      "\u001b[1;31m---------------------------------------------------------------------------\u001b[0m",
      "\u001b[1;31mTypeError\u001b[0m                                 Traceback (most recent call last)",
      "Input \u001b[1;32mIn [20]\u001b[0m, in \u001b[0;36m<cell line: 11>\u001b[1;34m()\u001b[0m\n\u001b[0;32m      7\u001b[0m     \u001b[38;5;28;01mreturn\u001b[39;00m Kproj_covar, sigma_covar\n\u001b[0;32m     10\u001b[0m HB_B0 \u001b[38;5;241m=\u001b[39m basis_j3\n\u001b[1;32m---> 11\u001b[0m K_projs_covar, sigma_projs_covar \u001b[38;5;241m=\u001b[39m \u001b[43minstantaneous_projs_and_avgs\u001b[49m\u001b[43m(\u001b[49m\u001b[43mK_exact\u001b[49m\u001b[38;5;241;43m=\u001b[39;49m\u001b[43mexact_ev\u001b[49m\u001b[38;5;241;43m.\u001b[39;49m\u001b[43mstates\u001b[49m\u001b[43m,\u001b[49m\n\u001b[0;32m     12\u001b[0m \u001b[43m                                                                \u001b[49m\u001b[43mbasis\u001b[49m\u001b[38;5;241;43m=\u001b[39;49m\u001b[43mHB_B0\u001b[49m\u001b[43m,\u001b[49m\n\u001b[0;32m     13\u001b[0m \u001b[43m                                                                \u001b[49m\u001b[43msp\u001b[49m\u001b[38;5;241;43m=\u001b[39;49m\u001b[43mfetch_covar_scalar_product\u001b[49m\u001b[43m)\u001b[49m\n",
      "Input \u001b[1;32mIn [20]\u001b[0m, in \u001b[0;36minstantaneous_projs_and_avgs\u001b[1;34m(K_exact, basis, sp)\u001b[0m\n\u001b[0;32m      1\u001b[0m \u001b[38;5;28;01mdef\u001b[39;00m \u001b[38;5;21minstantaneous_projs_and_avgs\u001b[39m(K_exact, basis, sp\u001b[38;5;241m=\u001b[39mcallable):\n\u001b[1;32m----> 2\u001b[0m     orth_basis \u001b[38;5;241m=\u001b[39m \u001b[43morthogonalize_basis\u001b[49m\u001b[43m(\u001b[49m\u001b[43mbasis\u001b[49m\u001b[38;5;241;43m=\u001b[39;49m\u001b[43mbasis\u001b[49m\u001b[43m,\u001b[49m\u001b[43m \u001b[49m\u001b[43msp\u001b[49m\u001b[38;5;241;43m=\u001b[39;49m\u001b[43mcallable\u001b[49m\u001b[43m,\u001b[49m\u001b[43midop\u001b[49m\u001b[38;5;241;43m=\u001b[39;49m\u001b[43mbasis\u001b[49m\u001b[43m[\u001b[49m\u001b[38;5;241;43m0\u001b[39;49m\u001b[43m]\u001b[49m\u001b[43m)\u001b[49m\n\u001b[0;32m      3\u001b[0m     Kproj_covar \u001b[38;5;241m=\u001b[39m \u001b[38;5;28msum\u001b[39m(phi\u001b[38;5;241m*\u001b[39mop \u001b[38;5;28;01mfor\u001b[39;00m phi,op \u001b[38;5;129;01min\u001b[39;00m \u001b[38;5;28mzip\u001b[39m(project_op(op\u001b[38;5;241m=\u001b[39mK_exact,\n\u001b[0;32m      4\u001b[0m                                                           orthogonal_basis\u001b[38;5;241m=\u001b[39morth_basis,\n\u001b[0;32m      5\u001b[0m                                                           sp\u001b[38;5;241m=\u001b[39msp)))\n\u001b[0;32m      6\u001b[0m     sigma_covar \u001b[38;5;241m=\u001b[39m safe_expm_and_normalize(Kproj_covar)\n",
      "Input \u001b[1;32mIn [18]\u001b[0m, in \u001b[0;36morthogonalize_basis\u001b[1;34m(basis, sp, idop)\u001b[0m\n\u001b[0;32m      5\u001b[0m \u001b[38;5;28;01mdef\u001b[39;00m \u001b[38;5;21morthogonalize_basis\u001b[39m(basis: \u001b[38;5;28mlist\u001b[39m, sp: callable, idop: qutip\u001b[38;5;241m.\u001b[39mQobj \u001b[38;5;241m=\u001b[39m \u001b[38;5;28;01mNone\u001b[39;00m):\n\u001b[0;32m      6\u001b[0m     \u001b[38;5;28;01mif\u001b[39;00m idop:\n\u001b[1;32m----> 7\u001b[0m         idnorm_sq \u001b[38;5;241m=\u001b[39m \u001b[43msp\u001b[49m\u001b[43m(\u001b[49m\u001b[43midop\u001b[49m\u001b[43m,\u001b[49m\u001b[43m \u001b[49m\u001b[43midop\u001b[49m\u001b[43m)\u001b[49m\n\u001b[0;32m      8\u001b[0m         id_comp \u001b[38;5;241m=\u001b[39m [sp(idop, op) \u001b[38;5;241m/\u001b[39m idnorm_sq \u001b[38;5;28;01mfor\u001b[39;00m op \u001b[38;5;129;01min\u001b[39;00m basis]\n\u001b[0;32m      9\u001b[0m         basis \u001b[38;5;241m=\u001b[39m ([idop \u001b[38;5;241m*\u001b[39m idnorm_sq\u001b[38;5;241m*\u001b[39m\u001b[38;5;241m*\u001b[39m\u001b[38;5;241m-\u001b[39m\u001b[38;5;241m0.5\u001b[39m] \u001b[38;5;241m+\u001b[39m\n\u001b[0;32m     10\u001b[0m                  [op \u001b[38;5;241m-\u001b[39m la \u001b[38;5;28;01mfor\u001b[39;00m la, op \u001b[38;5;129;01min\u001b[39;00m \u001b[38;5;28mzip\u001b[39m(id_comp, basis)])\n",
      "\u001b[1;31mTypeError\u001b[0m: callable() takes exactly one argument (2 given)"
     ]
    }
   ],
   "source": [
    "def instantaneous_projs_and_avgs(K_exact, basis, covar_sp=callable):\n",
    "    orth_basis = orthogonalize_basis(basis=basis, sp=covar_sp,idop=basis[0])\n",
    "    Kproj_covar = sum(phi*op for phi,op in zip(project_op(op=K_exact,\n",
    "                                                          orthogonal_basis=orth_basis,\n",
    "                                                          sp=covar_sp)))\n",
    "    sigma_covar = safe_expm_and_normalize(Kproj_covar)\n",
    "    return Kproj_covar, sigma_covar\n",
    "\n",
    "def projections(H, K0, K_exact, basis0, timespan):\n",
    "    print(\"**** Starting Simulation\", datetime.now())\n",
    "    results = {}\n",
    "    \n",
    "    inst_covar_sp = [fetch_covar_scalar_product(rho) for rho in rhot]\n",
    "\n",
    "HB_B0 = basis_j3\n",
    "K_projs_covar, sigma_projs_covar = instantaneous_projs_and_avgs(K_exact=exact_ev.states,\n",
    "                                                                basis=HB_B0,\n",
    "                                                                sp=fetch_covar_scalar_product)"
   ]
  },
  {
   "cell_type": "code",
   "execution_count": 16,
   "id": "9013f094",
   "metadata": {},
   "outputs": [
    {
     "ename": "TypeError",
     "evalue": "callable() takes exactly one argument (2 given)",
     "output_type": "error",
     "traceback": [
      "\u001b[1;31m---------------------------------------------------------------------------\u001b[0m",
      "\u001b[1;31mTypeError\u001b[0m                                 Traceback (most recent call last)",
      "Input \u001b[1;32mIn [16]\u001b[0m, in \u001b[0;36m<cell line: 1>\u001b[1;34m()\u001b[0m\n\u001b[1;32m----> 1\u001b[0m covar_restricted_dynamics\u001b[38;5;241m=\u001b[39m\u001b[43minstantaneous_projs_and_avgs\u001b[49m\u001b[43m(\u001b[49m\u001b[43mK_exact\u001b[49m\u001b[38;5;241;43m=\u001b[39;49m\u001b[43mexact_ev\u001b[49m\u001b[43m,\u001b[49m\n\u001b[0;32m      2\u001b[0m \u001b[43m                                                       \u001b[49m\u001b[43mbasis\u001b[49m\u001b[43m \u001b[49m\u001b[38;5;241;43m=\u001b[39;49m\u001b[43m \u001b[49m\u001b[43mbasis_j3\u001b[49m\u001b[43m,\u001b[49m\n\u001b[0;32m      3\u001b[0m \u001b[43m                                                       \u001b[49m\u001b[43msp\u001b[49m\u001b[38;5;241;43m=\u001b[39;49m\u001b[43mfetch_covar_inner_product\u001b[49m\u001b[43m)\u001b[49m\n",
      "Input \u001b[1;32mIn [14]\u001b[0m, in \u001b[0;36minstantaneous_projs_and_avgs\u001b[1;34m(K_exact, basis, sp)\u001b[0m\n\u001b[0;32m      1\u001b[0m \u001b[38;5;28;01mdef\u001b[39;00m \u001b[38;5;21minstantaneous_projs_and_avgs\u001b[39m(K_exact, basis, sp\u001b[38;5;241m=\u001b[39mcallable):\n\u001b[1;32m----> 2\u001b[0m     orth_basis \u001b[38;5;241m=\u001b[39m \u001b[43morthogonalize_basis\u001b[49m\u001b[43m(\u001b[49m\u001b[43mbasis\u001b[49m\u001b[38;5;241;43m=\u001b[39;49m\u001b[43mbasis\u001b[49m\u001b[43m,\u001b[49m\u001b[43m \u001b[49m\u001b[43msp\u001b[49m\u001b[38;5;241;43m=\u001b[39;49m\u001b[43mcallable\u001b[49m\u001b[43m,\u001b[49m\u001b[43midop\u001b[49m\u001b[38;5;241;43m=\u001b[39;49m\u001b[43mbasis\u001b[49m\u001b[43m[\u001b[49m\u001b[38;5;241;43m0\u001b[39;49m\u001b[43m]\u001b[49m\u001b[43m)\u001b[49m\n\u001b[0;32m      3\u001b[0m     Kproj_covar \u001b[38;5;241m=\u001b[39m \u001b[38;5;28msum\u001b[39m(phi\u001b[38;5;241m*\u001b[39mop \u001b[38;5;28;01mfor\u001b[39;00m phi,op \u001b[38;5;129;01min\u001b[39;00m \u001b[38;5;28mzip\u001b[39m(project_op(op\u001b[38;5;241m=\u001b[39mK_exact,\n\u001b[0;32m      4\u001b[0m                                                           orthogonal_basis\u001b[38;5;241m=\u001b[39morth_basis,\n\u001b[0;32m      5\u001b[0m                                                           sp\u001b[38;5;241m=\u001b[39msp)))\n\u001b[0;32m      6\u001b[0m     sigma_covar \u001b[38;5;241m=\u001b[39m safe_expm_and_normalize(Kproj_covar)\n",
      "Input \u001b[1;32mIn [7]\u001b[0m, in \u001b[0;36morthogonalize_basis\u001b[1;34m(basis, sp, idop)\u001b[0m\n\u001b[0;32m      4\u001b[0m \u001b[38;5;28;01mdef\u001b[39;00m \u001b[38;5;21morthogonalize_basis\u001b[39m(basis: \u001b[38;5;28mlist\u001b[39m, sp: callable, idop: qutip\u001b[38;5;241m.\u001b[39mQobj \u001b[38;5;241m=\u001b[39m \u001b[38;5;28;01mNone\u001b[39;00m):\n\u001b[0;32m      5\u001b[0m     \u001b[38;5;28;01mif\u001b[39;00m idop:\n\u001b[1;32m----> 6\u001b[0m         idnorm_sq \u001b[38;5;241m=\u001b[39m \u001b[43msp\u001b[49m\u001b[43m(\u001b[49m\u001b[43midop\u001b[49m\u001b[43m,\u001b[49m\u001b[43m \u001b[49m\u001b[43midop\u001b[49m\u001b[43m)\u001b[49m\n\u001b[0;32m      7\u001b[0m         id_comp \u001b[38;5;241m=\u001b[39m [sp(idop, op) \u001b[38;5;241m/\u001b[39m idnorm_sq \u001b[38;5;28;01mfor\u001b[39;00m op \u001b[38;5;129;01min\u001b[39;00m basis]\n\u001b[0;32m      8\u001b[0m         basis \u001b[38;5;241m=\u001b[39m ([idop \u001b[38;5;241m*\u001b[39m idnorm_sq\u001b[38;5;241m*\u001b[39m\u001b[38;5;241m*\u001b[39m\u001b[38;5;241m-\u001b[39m\u001b[38;5;241m0.5\u001b[39m] \u001b[38;5;241m+\u001b[39m\n\u001b[0;32m      9\u001b[0m                  [op \u001b[38;5;241m-\u001b[39m la \u001b[38;5;28;01mfor\u001b[39;00m la, op \u001b[38;5;129;01min\u001b[39;00m \u001b[38;5;28mzip\u001b[39m(id_comp, basis)])\n",
      "\u001b[1;31mTypeError\u001b[0m: callable() takes exactly one argument (2 given)"
     ]
    }
   ],
   "source": [
    "covar_restricted_dynamics=instantaneous_projs_and_avgs(K_exact=exact_ev,\n",
    "                                                       basis = basis_j3,\n",
    "                                                       sp=fetch_covar_inner_product)"
   ]
  },
  {
   "cell_type": "markdown",
   "id": "79d6caca",
   "metadata": {},
   "source": [
    "### Max-Ent method"
   ]
  },
  {
   "cell_type": "code",
   "execution_count": 28,
   "id": "46b24be1",
   "metadata": {},
   "outputs": [],
   "source": [
    "\n",
    "\n",
    "def gram_matrix(basis: list, sp: callable):\n",
    "    size = len(basis)\n",
    "    result = np.zeros([size, size], dtype=float)\n",
    "\n",
    "    for i, op1 in enumerate(basis):\n",
    "        for j, op2 in enumerate(basis):\n",
    "            if j < i:\n",
    "                continue\n",
    "            entry = np.real(sp(op1, op2))\n",
    "            if i == j:\n",
    "                result[i, i] = entry\n",
    "            else:\n",
    "                result[i, j] = result[j, i] = entry\n",
    "\n",
    "    return qutip.Qobj(result.round(14))\n",
    "\n",
    "\n",
    "gram = gram_matrix(basis = basis, sp = fetch_covar_inner_product(rho0))\n",
    "\n",
    "def covar_diff_system_func(phit, t, basis, sp=callable):\n",
    "    return gram_matrix(basis=basis, sp=fetch_covar_inner_product(rho0),id=basis[0]) * phit"
   ]
  },
  {
   "cell_type": "raw",
   "id": "158b44ec",
   "metadata": {},
   "source": []
  }
 ],
 "metadata": {
  "kernelspec": {
   "display_name": "Python 3 (ipykernel)",
   "language": "python",
   "name": "python3"
  },
  "language_info": {
   "codemirror_mode": {
    "name": "ipython",
    "version": 3
   },
   "file_extension": ".py",
   "mimetype": "text/x-python",
   "name": "python",
   "nbconvert_exporter": "python",
   "pygments_lexer": "ipython3",
   "version": "3.9.12"
  }
 },
 "nbformat": 4,
 "nbformat_minor": 5
}
