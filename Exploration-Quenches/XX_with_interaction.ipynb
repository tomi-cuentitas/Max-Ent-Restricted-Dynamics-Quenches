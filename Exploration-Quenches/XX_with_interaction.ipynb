{
 "cells": [
  {
   "cell_type": "code",
   "execution_count": 1,
   "id": "725b5c77",
   "metadata": {},
   "outputs": [],
   "source": [
    "import numpy as np\n",
    "import matplotlib.pyplot as plt\n",
    "import scipy.linalg as linalg\n",
    "import qutip"
   ]
  },
  {
   "cell_type": "code",
   "execution_count": 2,
   "id": "e29e209e",
   "metadata": {},
   "outputs": [
    {
     "ename": "ModuleNotFoundError",
     "evalue": "No module named 'c_quatum_geometries'",
     "output_type": "error",
     "traceback": [
      "\u001b[1;31m---------------------------------------------------------------------------\u001b[0m",
      "\u001b[1;31mModuleNotFoundError\u001b[0m                       Traceback (most recent call last)",
      "Input \u001b[1;32mIn [2]\u001b[0m, in \u001b[0;36m<cell line: 8>\u001b[1;34m()\u001b[0m\n\u001b[0;32m      6\u001b[0m \u001b[38;5;28;01mimport\u001b[39;00m \u001b[38;5;21;01mb_spin_ops\u001b[39;00m \u001b[38;5;28;01mas\u001b[39;00m \u001b[38;5;21;01msu2\u001b[39;00m\n\u001b[0;32m      7\u001b[0m \u001b[38;5;28;01mimport\u001b[39;00m \u001b[38;5;21;01mb_quantum_geometries\u001b[39;00m \u001b[38;5;28;01mas\u001b[39;00m \u001b[38;5;21;01mgij\u001b[39;00m\n\u001b[1;32m----> 8\u001b[0m \u001b[38;5;28;01mimport\u001b[39;00m \u001b[38;5;21;01mc_maxent_eom\u001b[39;00m \u001b[38;5;28;01mas\u001b[39;00m \u001b[38;5;21;01mme\u001b[39;00m\n",
      "File \u001b[1;32mC:\\Users/Tomas/PhD_Physics/3rd_Year/Max-Ent_Library\\c_maxent_eom.py:8\u001b[0m, in \u001b[0;36m<module>\u001b[1;34m\u001b[0m\n\u001b[0;32m      5\u001b[0m \u001b[38;5;28;01mimport\u001b[39;00m \u001b[38;5;21;01mscipy\u001b[39;00m\u001b[38;5;21;01m.\u001b[39;00m\u001b[38;5;21;01mlinalg\u001b[39;00m\n\u001b[0;32m      7\u001b[0m \u001b[38;5;28;01mimport\u001b[39;00m \u001b[38;5;21;01ma_quantum_stateology\u001b[39;00m \u001b[38;5;28;01mas\u001b[39;00m \u001b[38;5;21;01mqstates\u001b[39;00m\n\u001b[1;32m----> 8\u001b[0m \u001b[38;5;28;01mimport\u001b[39;00m \u001b[38;5;21;01mc_quatum_geometries\u001b[39;00m \u001b[38;5;28;01mas\u001b[39;00m \u001b[38;5;21;01mgij\u001b[39;00m \n\u001b[0;32m     10\u001b[0m \u001b[38;5;66;03m# In [1]:\u001b[39;00m\n\u001b[0;32m     12\u001b[0m \u001b[38;5;28;01mdef\u001b[39;00m \u001b[38;5;21mgram_matrix\u001b[39m(basis: \u001b[38;5;28mlist\u001b[39m, sp: Callable):\n",
      "\u001b[1;31mModuleNotFoundError\u001b[0m: No module named 'c_quatum_geometries'"
     ]
    }
   ],
   "source": [
    "import sys \n",
    "path = 'C:/Users/Tomas/PhD_Physics/3rd_Year/Max-Ent_Library'\n",
    "sys.path.insert(1, path) \n",
    "\n",
    "import a_quantum_stateology as TpM\n",
    "import b_spin_ops as su2\n",
    "import b_quantum_geometries as gij\n",
    "import c_maxent_eom as me"
   ]
  },
  {
   "cell_type": "code",
   "execution_count": null,
   "id": "f32ec0fd",
   "metadata": {},
   "outputs": [],
   "source": [
    "params={}\n",
    "params['size'],params['chain_type'] = 6,'XX'\n",
    "params['h']=0;params['Jx']=.5*2*np.pi"
   ]
  },
  {
   "cell_type": "code",
   "execution_count": null,
   "id": "1c04a39b",
   "metadata": {},
   "outputs": [],
   "source": [
    "spin_ops = su2.one_body_spin_ops(args=params)\n",
    "H0 = su2.Heisenberg_1D_Hamiltonian(args=params,\n",
    "                                   spin_ops=spin_ops,\n",
    "                                   closed_bcs=True, visualization=False)"
   ]
  },
  {
   "cell_type": "code",
   "execution_count": null,
   "id": "b3d17170",
   "metadata": {},
   "outputs": [],
   "source": [
    "params['g'] = .1; params['w'] = params['Omega']=np.pi\n",
    "\n",
    "Hint = sum(op for op in spin_ops['sz']) \n",
    "def Hint_tdcoeff(t, args):\n",
    "    return args['g']*np.cos(-args['Omega']*t)\n",
    "\n",
    "Vt = params['Omega'] * spin_ops['sz'][2]\n",
    "\n",
    "H=[H0+Vt, [Hint, Hint_tdcoeff]]"
   ]
  },
  {
   "cell_type": "code",
   "execution_count": null,
   "id": "3233992f",
   "metadata": {},
   "outputs": [],
   "source": [
    "ket0 = qutip.tensor(qutip.basis(2,1),qutip.tensor([qutip.basis(2,0) for k in range(params['size']-1)]))\n",
    "rho0=ket0*ket0.dag()\n",
    "\n",
    "tlist= np.linspace(0,1,100)\n",
    "exact_ev = qutip.mesolve(H=H, \n",
    "                         rho0=rho0, \n",
    "                         tlist=tlist,\n",
    "                         c_ops= None,\n",
    "                         args=params)"
   ]
  },
  {
   "cell_type": "markdown",
   "id": "0aa17d4c",
   "metadata": {},
   "source": [
    "### Max-Ent method:\n"
   ]
  },
  {
   "cell_type": "code",
   "execution_count": 1,
   "id": "38f9a679",
   "metadata": {},
   "outputs": [
    {
     "ename": "NameError",
     "evalue": "name 'spin_ops' is not defined",
     "output_type": "error",
     "traceback": [
      "\u001b[1;31m---------------------------------------------------------------------------\u001b[0m",
      "\u001b[1;31mNameError\u001b[0m                                 Traceback (most recent call last)",
      "Input \u001b[1;32mIn [1]\u001b[0m, in \u001b[0;36m<cell line: 1>\u001b[1;34m()\u001b[0m\n\u001b[1;32m----> 1\u001b[0m basis \u001b[38;5;241m=\u001b[39m [\u001b[43mspin_ops\u001b[49m[\u001b[38;5;124m'\u001b[39m\u001b[38;5;124midop\u001b[39m\u001b[38;5;124m'\u001b[39m][\u001b[38;5;241m0\u001b[39m], spin_ops[\u001b[38;5;124m'\u001b[39m\u001b[38;5;124msz\u001b[39m\u001b[38;5;124m'\u001b[39m][\u001b[38;5;241m3\u001b[39m]]\n\u001b[0;32m      2\u001b[0m \u001b[38;5;28;01mdef\u001b[39;00m \u001b[38;5;21mgram_matrix\u001b[39m(basis: \u001b[38;5;28mlist\u001b[39m, sp: Callable):\n\u001b[0;32m      3\u001b[0m     size \u001b[38;5;241m=\u001b[39m \u001b[38;5;28mlen\u001b[39m(basis)\n",
      "\u001b[1;31mNameError\u001b[0m: name 'spin_ops' is not defined"
     ]
    }
   ],
   "source": [
    "basis = [spin_ops['idop'][0], spin_ops['sz'][3]]\n",
    "def gram_matrix(basis: list, sp: Callable):\n",
    "    size = len(basis)\n",
    "    result = np.zeros([size, size], dtype=float)\n",
    "\n",
    "    for i, op1 in enumerate(basis):\n",
    "        for j, op2 in enumerate(basis):\n",
    "            if j < i:\n",
    "                continue\n",
    "            entry = np.real(sp(op1, op2))\n",
    "            if i == j:\n",
    "                result[i, i] = entry\n",
    "            else:\n",
    "                result[i, j] = result[j, i] = entry\n",
    "\n",
    "    return result.round(14)\n",
    "\n",
    "gram_matrix = gram_matrix(basis=basis, sp=gij.fetch_corr_inner_prod)\n"
   ]
  },
  {
   "cell_type": "code",
   "execution_count": 31,
   "id": "2dd484e5",
   "metadata": {
    "scrolled": true
   },
   "outputs": [
    {
     "data": {
      "text/plain": [
       "[<matplotlib.lines.Line2D at 0x20f37117a90>]"
      ]
     },
     "execution_count": 31,
     "metadata": {},
     "output_type": "execute_result"
    },
    {
     "data": {
      "image/png": "[encoded data removed]",
      "text/plain": [
       "<Figure size 432x288 with 1 Axes>"
      ]
     },
     "metadata": {
      "needs_background": "light"
     },
     "output_type": "display_data"
    }
   ],
   "source": [
    "szj3_ev = [(rho*spin_ops['sz'][2]).tr() for rho in exact_ev.states]\n",
    "plt.plot(szj3_ev)"
   ]
  },
  {
   "cell_type": "code",
   "execution_count": 12,
   "id": "de169f4d",
   "metadata": {},
   "outputs": [
    {
     "data": {
      "text/plain": [
       "<matplotlib.collections.PathCollection at 0x28766ac4f10>"
      ]
     },
     "execution_count": 12,
     "metadata": {},
     "output_type": "execute_result"
    },
    {
     "data": {
      "image/png": "[encoded data removed]",
      "text/plain": [
       "<Figure size 432x288 with 1 Axes>"
      ]
     },
     "metadata": {
      "needs_background": "light"
     },
     "output_type": "display_data"
    }
   ],
   "source": [
    "\n",
    "sz1_ev=[(rho*spin_ops['sz'][1]).tr() for rho in exact_ev.states]\n",
    "plt.scatter(tlist, sz1_ev)"
   ]
  },
  {
   "cell_type": "code",
   "execution_count": 16,
   "id": "97b9805c",
   "metadata": {},
   "outputs": [
    {
     "data": {
      "text/plain": [
       "[[2, 2, 2, 2, 2, 2], [2, 2, 2, 2, 2, 2]]"
      ]
     },
     "execution_count": 16,
     "metadata": {},
     "output_type": "execute_result"
    }
   ],
   "source": [
    "rho0.dims"
   ]
  },
  {
   "cell_type": "code",
   "execution_count": 17,
   "id": "1efb897d",
   "metadata": {
    "scrolled": true
   },
   "outputs": [
    {
     "data": {
      "text/latex": [
       "Quantum object: dims = [[2, 2, 2, 2, 2, 2], [2, 2, 2, 2, 2, 2]], shape = (64, 64), type = oper, isherm = True\\begin{equation*}\\left(\\begin{array}{*{11}c}1.0 & 0.0 & 0.0 & 0.0 & 0.0 & \\cdots & 0.0 & 0.0 & 0.0 & 0.0 & 0.0\\\\0.0 & 1.0 & 0.0 & 0.0 & 0.0 & \\cdots & 0.0 & 0.0 & 0.0 & 0.0 & 0.0\\\\0.0 & 0.0 & 1.0 & 0.0 & 0.0 & \\cdots & 0.0 & 0.0 & 0.0 & 0.0 & 0.0\\\\0.0 & 0.0 & 0.0 & 1.0 & 0.0 & \\cdots & 0.0 & 0.0 & 0.0 & 0.0 & 0.0\\\\0.0 & 0.0 & 0.0 & 0.0 & 1.0 & \\cdots & 0.0 & 0.0 & 0.0 & 0.0 & 0.0\\\\\\vdots & \\vdots & \\vdots & \\vdots & \\vdots & \\ddots & \\vdots & \\vdots & \\vdots & \\vdots & \\vdots\\\\0.0 & 0.0 & 0.0 & 0.0 & 0.0 & \\cdots & 1.0 & 0.0 & 0.0 & 0.0 & 0.0\\\\0.0 & 0.0 & 0.0 & 0.0 & 0.0 & \\cdots & 0.0 & 1.0 & 0.0 & 0.0 & 0.0\\\\0.0 & 0.0 & 0.0 & 0.0 & 0.0 & \\cdots & 0.0 & 0.0 & 1.0 & 0.0 & 0.0\\\\0.0 & 0.0 & 0.0 & 0.0 & 0.0 & \\cdots & 0.0 & 0.0 & 0.0 & 1.0 & 0.0\\\\0.0 & 0.0 & 0.0 & 0.0 & 0.0 & \\cdots & 0.0 & 0.0 & 0.0 & 0.0 & 1.0\\\\\\end{array}\\right)\\end{equation*}"
      ],
      "text/plain": [
       "Quantum object: dims = [[2, 2, 2, 2, 2, 2], [2, 2, 2, 2, 2, 2]], shape = (64, 64), type = oper, isherm = True\n",
       "Qobj data =\n",
       "[[1. 0. 0. ... 0. 0. 0.]\n",
       " [0. 1. 0. ... 0. 0. 0.]\n",
       " [0. 0. 1. ... 0. 0. 0.]\n",
       " ...\n",
       " [0. 0. 0. ... 1. 0. 0.]\n",
       " [0. 0. 0. ... 0. 1. 0.]\n",
       " [0. 0. 0. ... 0. 0. 1.]]"
      ]
     },
     "execution_count": 17,
     "metadata": {},
     "output_type": "execute_result"
    }
   ],
   "source": [
    "qutip.tensor([qutip.qeye(2) for k in rho0.dims[0]])"
   ]
  },
  {
   "cell_type": "code",
   "execution_count": 11,
   "id": "69f84cba",
   "metadata": {},
   "outputs": [
    {
     "data": {
      "text/latex": [
       "Quantum object: dims = [[6], [6]], shape = (6, 6), type = oper, isherm = True\\begin{equation*}\\left(\\begin{array}{*{11}c}1.0 & 0.0 & 0.0 & 0.0 & 0.0 & 0.0\\\\0.0 & 0.0 & 0.0 & 0.0 & 0.0 & 0.0\\\\0.0 & 0.0 & 0.0 & 0.0 & 0.0 & 0.0\\\\0.0 & 0.0 & 0.0 & 0.0 & 0.0 & 0.0\\\\0.0 & 0.0 & 0.0 & 0.0 & 0.0 & 0.0\\\\0.0 & 0.0 & 0.0 & 0.0 & 0.0 & 0.0\\\\\\end{array}\\right)\\end{equation*}"
      ],
      "text/plain": [
       "Quantum object: dims = [[6], [6]], shape = (6, 6), type = oper, isherm = True\n",
       "Qobj data =\n",
       "[[1. 0. 0. 0. 0. 0.]\n",
       " [0. 0. 0. 0. 0. 0.]\n",
       " [0. 0. 0. 0. 0. 0.]\n",
       " [0. 0. 0. 0. 0. 0.]\n",
       " [0. 0. 0. 0. 0. 0.]\n",
       " [0. 0. 0. 0. 0. 0.]]"
      ]
     },
     "execution_count": 11,
     "metadata": {},
     "output_type": "execute_result"
    }
   ],
   "source": [
    "ket0=qutip.basis(params['size'],0)\n",
    "rho0=ket0*ket0.dag()\n",
    "rho0"
   ]
  },
  {
   "cell_type": "code",
   "execution_count": 9,
   "id": "e636b2f4",
   "metadata": {},
   "outputs": [
    {
     "name": "stdout",
     "output_type": "stream",
     "text": [
      "Help on module b_spin_ops:\n",
      "\n",
      "NAME\n",
      "    b_spin_ops - # In [0]:\n",
      "\n",
      "FUNCTIONS\n",
      "    Heisenberg_1D_Hamiltonian(args, spin_ops, closed_bcs=True, visualization=False, tol=1e-10)\n",
      "        This module constructs different types of nearest-neighbour\n",
      "        Heisenberg-like spin chains, using a list of local [see Warnings and Remarks] spin operators.\n",
      "        This module takes as input the following parameters:\n",
      "        \n",
      "            *♥*♥* 1. spin_ops: a list of hermitian local [see Warnings and Remarks further below] spin operators.\n",
      "            *♥*♥* 2. closed_bcs: boolean parameter, default value = True. \n",
      "                                 If a spin chain has more than two lattice sites, the spin chain can be made\n",
      "                                 translationally invariant by adding an extra term corresponding to the N-th site's interaction\n",
      "                                 with the first site. \n",
      "            *♥*♥* 3. visualization: boolean parameter, default value = False.\n",
      "                                    Toggling this option will output a Hinton diagram of the Hamiltonian \n",
      "                                    \n",
      "            ====> Returns: the system's Hamiltonian.\n",
      "            Warnings and Remarks: a. by \"local spin operators\", it is understood that these spin operators act on the global\n",
      "                                     Hilbert space, having already been written in terms of tensor products. These spin operators\n",
      "                                     act non-trivially only on a single lattice site, and act as an identity operator otherwise.\n",
      "                                  b. If a spin chain is chosen to be, eg., an XX chain, only the \n",
      "                                     first and fourth parameters will be use, the others will be ignored.\n",
      "    \n",
      "    one_body_spin_ops(args)\n",
      "        Given an N-site spin chain, there are then 3N different, \n",
      "        non-trivial, operators acting on the full Hilbert space.\n",
      "        N sigma-x operators, N sigma-y operators, \n",
      "        N sigma-z operators, and a global identity operator. \n",
      "        All these 3N+1-operators are constructed with a tensor\n",
      "        product so that they all act on the full Hilbert space. \n",
      "        All but the global identity operator, act \n",
      "        non-trivially only on one Hilbert subspace.\n",
      "\n",
      "FILE\n",
      "    c:\\users\\tomas\\phd_physics\\3rd_year\\max-ent_library\\b_spin_ops.py\n",
      "\n",
      "\n"
     ]
    }
   ],
   "source": [
    "help(su2)"
   ]
  },
  {
   "cell_type": "code",
   "execution_count": 4,
   "id": "e4122cdf",
   "metadata": {},
   "outputs": [
    {
     "data": {
      "text/plain": [
       "['__bool__',\n",
       " '__class__',\n",
       " '__delattr__',\n",
       " '__dir__',\n",
       " '__doc__',\n",
       " '__eq__',\n",
       " '__format__',\n",
       " '__ge__',\n",
       " '__getattribute__',\n",
       " '__gt__',\n",
       " '__hash__',\n",
       " '__init__',\n",
       " '__init_subclass__',\n",
       " '__le__',\n",
       " '__lt__',\n",
       " '__ne__',\n",
       " '__new__',\n",
       " '__reduce__',\n",
       " '__reduce_ex__',\n",
       " '__repr__',\n",
       " '__setattr__',\n",
       " '__sizeof__',\n",
       " '__str__',\n",
       " '__subclasshook__']"
      ]
     },
     "execution_count": 4,
     "metadata": {},
     "output_type": "execute_result"
    }
   ],
   "source": [
    "dir(sys.path.insert(1, path))"
   ]
  },
  {
   "cell_type": "code",
   "execution_count": null,
   "id": "1aff3219",
   "metadata": {},
   "outputs": [],
   "source": []
  },
  {
   "cell_type": "code",
   "execution_count": null,
   "id": "a431c413",
   "metadata": {},
   "outputs": [],
   "source": [
    "import sys\n",
    "# caution: path[0] is reserved for script path (or '' in REPL)\n",
    "sys.path.insert(1, '/path/to/application/app/folder')\n",
    "\n",
    "import file"
   ]
  },
  {
   "cell_type": "code",
   "execution_count": 3,
   "id": "1ce91274",
   "metadata": {},
   "outputs": [
    {
     "ename": "NameError",
     "evalue": "name 'H0' is not defined",
     "output_type": "error",
     "traceback": [
      "\u001b[1;31m---------------------------------------------------------------------------\u001b[0m",
      "\u001b[1;31mNameError\u001b[0m                                 Traceback (most recent call last)",
      "Input \u001b[1;32mIn [3]\u001b[0m, in \u001b[0;36m<cell line: 7>\u001b[1;34m()\u001b[0m\n\u001b[0;32m      4\u001b[0m \u001b[38;5;28;01mdef\u001b[39;00m \u001b[38;5;21mVt_coeff\u001b[39m(t, args):\n\u001b[0;32m      5\u001b[0m     \u001b[38;5;28;01mreturn\u001b[39;00m args[\u001b[38;5;124m'\u001b[39m\u001b[38;5;124mA\u001b[39m\u001b[38;5;124m'\u001b[39m]\u001b[38;5;241m*\u001b[39mnp\u001b[38;5;241m.\u001b[39mcos(args[\u001b[38;5;124m'\u001b[39m\u001b[38;5;124mw\u001b[39m\u001b[38;5;124m'\u001b[39m]\u001b[38;5;241m*\u001b[39mt)\n\u001b[1;32m----> 7\u001b[0m H \u001b[38;5;241m=\u001b[39m [\u001b[43mH0\u001b[49m, [Vt, Vt_coeff]]\n\u001b[0;32m      8\u001b[0m exact_ev \u001b[38;5;241m=\u001b[39m qutip\u001b[38;5;241m.\u001b[39mmesolve(H\u001b[38;5;241m=\u001b[39mH, rho\u001b[38;5;241m=\u001b[39mrho0, t \u001b[38;5;241m=\u001b[39m tlist,\n\u001b[0;32m      9\u001b[0m                         args\u001b[38;5;241m=\u001b[39m[N, op])\n",
      "\u001b[1;31mNameError\u001b[0m: name 'H0' is not defined"
     ]
    }
   ],
   "source": [
    "N=7\n",
    "g = .1\n",
    "\n",
    "def Vt_coeff(t, args):\n",
    "    return args['A']*np.cos(args['w']*t)\n",
    "\n",
    "H = [H0, [Vt, Vt_coeff]]\n",
    "exact_ev = qutip.mesolve(H=H, rho=rho0, t = tlist,\n",
    "                        args=[N, op])"
   ]
  },
  {
   "cell_type": "code",
   "execution_count": 4,
   "id": "b110b08a",
   "metadata": {},
   "outputs": [],
   "source": [
    "args = {}\n",
    "args[0],args[1],args[2],args[3] = [1,2,3,4]"
   ]
  },
  {
   "cell_type": "code",
   "execution_count": 5,
   "id": "b801322f",
   "metadata": {},
   "outputs": [
    {
     "data": {
      "text/plain": [
       "1"
      ]
     },
     "execution_count": 5,
     "metadata": {},
     "output_type": "execute_result"
    }
   ],
   "source": [
    "args[0]"
   ]
  },
  {
   "cell_type": "code",
   "execution_count": 8,
   "id": "cea69ef4",
   "metadata": {},
   "outputs": [],
   "source": [
    "my_data = [\n",
    "    { 'ID' : 1, 'stuff' : ['stuff1', 'stuff2', 'stuff3']},\n",
    "    { 'ID' : 2, 'stuff' : ['stuff1', 'stuff2', 'stuff3']},\n",
    "    { 'ID' : 3, 'stuff' : ['stuff1', 'stuff2', 'stuff3']},\n",
    "]"
   ]
  },
  {
   "cell_type": "code",
   "execution_count": 15,
   "id": "e657c558",
   "metadata": {},
   "outputs": [
    {
     "data": {
      "text/plain": [
       "str"
      ]
     },
     "execution_count": 15,
     "metadata": {},
     "output_type": "execute_result"
    }
   ],
   "source": [
    "type(my_data[0]['stuff'][0])"
   ]
  },
  {
   "cell_type": "code",
   "execution_count": null,
   "id": "13434b7d",
   "metadata": {},
   "outputs": [],
   "source": []
  }
 ],
 "metadata": {
  "kernelspec": {
   "display_name": "Python 3 (ipykernel)",
   "language": "python",
   "name": "python3"
  },
  "language_info": {
   "codemirror_mode": {
    "name": "ipython",
    "version": 3
   },
   "file_extension": ".py",
   "mimetype": "text/x-python",
   "name": "python",
   "nbconvert_exporter": "python",
   "pygments_lexer": "ipython3",
   "version": "3.9.12"
  }
 },
 "nbformat": 4,
 "nbformat_minor": 5
}
